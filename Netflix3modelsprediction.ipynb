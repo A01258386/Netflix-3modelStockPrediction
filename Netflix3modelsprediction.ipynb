{
  "nbformat": 4,
  "nbformat_minor": 0,
  "metadata": {
    "colab": {
      "name": "Netflix3modelsprediction.ipynb",
      "provenance": [],
      "collapsed_sections": [],
      "authorship_tag": "ABX9TyMcqdHWX8HVd4bqXaPSimrH",
      "include_colab_link": true
    },
    "kernelspec": {
      "name": "python3",
      "display_name": "Python 3"
    },
    "language_info": {
      "name": "python"
    }
  },
  "cells": [
    {
      "cell_type": "markdown",
      "metadata": {
        "id": "view-in-github",
        "colab_type": "text"
      },
      "source": [
        "<a href=\"https://colab.research.google.com/github/A01258386/Netflix-3modelStockPrediction/blob/main/Netflix3modelsprediction.ipynb\" target=\"_parent\"><img src=\"https://colab.research.google.com/assets/colab-badge.svg\" alt=\"Open In Colab\"/></a>"
      ]
    },
    {
      "cell_type": "code",
      "metadata": {
        "id": "eXGZjwAx7vQM"
      },
      "source": [
        "#Tesla stock pred for a specific day\n"
      ],
      "execution_count": null,
      "outputs": []
    },
    {
      "cell_type": "code",
      "metadata": {
        "id": "NnJkpkug70Pa"
      },
      "source": [
        "#import the libraries\n",
        "from sklearn.svm import SVR\n",
        "import numpy as np\n",
        "import pandas as pd\n",
        "import matplotlib.pyplot as plt\n",
        "plt.style.use('fivethirtyeight')"
      ],
      "execution_count": null,
      "outputs": []
    },
    {
      "cell_type": "code",
      "metadata": {
        "id": "KH3nKNGT72g5"
      },
      "source": [
        "# #Load the data\n",
        "# from google.colab import files\n",
        "# files.upload()"
      ],
      "execution_count": null,
      "outputs": []
    },
    {
      "cell_type": "code",
      "metadata": {
        "id": "vj6LDAET87Pu",
        "colab": {
          "base_uri": "https://localhost:8080/",
          "height": 419
        },
        "outputId": "eda31794-9d62-468e-9333-d0c51b3d2b79"
      },
      "source": [
        "#Store the data\n",
        "df = pd.read_csv('FB.csv')\n",
        "#Show the data\n",
        "df"
      ],
      "execution_count": null,
      "outputs": [
        {
          "output_type": "execute_result",
          "data": {
            "text/html": [
              "<div>\n",
              "<style scoped>\n",
              "    .dataframe tbody tr th:only-of-type {\n",
              "        vertical-align: middle;\n",
              "    }\n",
              "\n",
              "    .dataframe tbody tr th {\n",
              "        vertical-align: top;\n",
              "    }\n",
              "\n",
              "    .dataframe thead th {\n",
              "        text-align: right;\n",
              "    }\n",
              "</style>\n",
              "<table border=\"1\" class=\"dataframe\">\n",
              "  <thead>\n",
              "    <tr style=\"text-align: right;\">\n",
              "      <th></th>\n",
              "      <th>Date</th>\n",
              "      <th>Open</th>\n",
              "      <th>High</th>\n",
              "      <th>Low</th>\n",
              "      <th>Close</th>\n",
              "      <th>Adj Close</th>\n",
              "      <th>Volume</th>\n",
              "    </tr>\n",
              "  </thead>\n",
              "  <tbody>\n",
              "    <tr>\n",
              "      <th>0</th>\n",
              "      <td>2020-07-13</td>\n",
              "      <td>247.009995</td>\n",
              "      <td>250.149994</td>\n",
              "      <td>238.419998</td>\n",
              "      <td>239.000000</td>\n",
              "      <td>239.000000</td>\n",
              "      <td>24674900</td>\n",
              "    </tr>\n",
              "    <tr>\n",
              "      <th>1</th>\n",
              "      <td>2020-07-14</td>\n",
              "      <td>236.759995</td>\n",
              "      <td>240.330002</td>\n",
              "      <td>232.029999</td>\n",
              "      <td>239.729996</td>\n",
              "      <td>239.729996</td>\n",
              "      <td>23378100</td>\n",
              "    </tr>\n",
              "    <tr>\n",
              "      <th>2</th>\n",
              "      <td>2020-07-15</td>\n",
              "      <td>241.550003</td>\n",
              "      <td>244.820007</td>\n",
              "      <td>238.050003</td>\n",
              "      <td>240.279999</td>\n",
              "      <td>240.279999</td>\n",
              "      <td>19133600</td>\n",
              "    </tr>\n",
              "    <tr>\n",
              "      <th>3</th>\n",
              "      <td>2020-07-16</td>\n",
              "      <td>238.000000</td>\n",
              "      <td>241.759995</td>\n",
              "      <td>236.330002</td>\n",
              "      <td>240.929993</td>\n",
              "      <td>240.929993</td>\n",
              "      <td>18880700</td>\n",
              "    </tr>\n",
              "    <tr>\n",
              "      <th>4</th>\n",
              "      <td>2020-07-17</td>\n",
              "      <td>241.000000</td>\n",
              "      <td>244.160004</td>\n",
              "      <td>237.860001</td>\n",
              "      <td>242.029999</td>\n",
              "      <td>242.029999</td>\n",
              "      <td>18152400</td>\n",
              "    </tr>\n",
              "    <tr>\n",
              "      <th>...</th>\n",
              "      <td>...</td>\n",
              "      <td>...</td>\n",
              "      <td>...</td>\n",
              "      <td>...</td>\n",
              "      <td>...</td>\n",
              "      <td>...</td>\n",
              "      <td>...</td>\n",
              "    </tr>\n",
              "    <tr>\n",
              "      <th>246</th>\n",
              "      <td>2021-07-02</td>\n",
              "      <td>355.100006</td>\n",
              "      <td>356.440002</td>\n",
              "      <td>352.619995</td>\n",
              "      <td>354.700012</td>\n",
              "      <td>354.700012</td>\n",
              "      <td>11521300</td>\n",
              "    </tr>\n",
              "    <tr>\n",
              "      <th>247</th>\n",
              "      <td>2021-07-06</td>\n",
              "      <td>356.500000</td>\n",
              "      <td>358.790009</td>\n",
              "      <td>349.179993</td>\n",
              "      <td>352.779999</td>\n",
              "      <td>352.779999</td>\n",
              "      <td>13488500</td>\n",
              "    </tr>\n",
              "    <tr>\n",
              "      <th>248</th>\n",
              "      <td>2021-07-07</td>\n",
              "      <td>355.260010</td>\n",
              "      <td>356.489990</td>\n",
              "      <td>350.000000</td>\n",
              "      <td>350.489990</td>\n",
              "      <td>350.489990</td>\n",
              "      <td>14218900</td>\n",
              "    </tr>\n",
              "    <tr>\n",
              "      <th>249</th>\n",
              "      <td>2021-07-08</td>\n",
              "      <td>345.730011</td>\n",
              "      <td>348.329987</td>\n",
              "      <td>342.559998</td>\n",
              "      <td>345.649994</td>\n",
              "      <td>345.649994</td>\n",
              "      <td>14406500</td>\n",
              "    </tr>\n",
              "    <tr>\n",
              "      <th>250</th>\n",
              "      <td>2021-07-09</td>\n",
              "      <td>345.320007</td>\n",
              "      <td>350.709991</td>\n",
              "      <td>345.269989</td>\n",
              "      <td>350.420013</td>\n",
              "      <td>350.420013</td>\n",
              "      <td>13010400</td>\n",
              "    </tr>\n",
              "  </tbody>\n",
              "</table>\n",
              "<p>251 rows × 7 columns</p>\n",
              "</div>"
            ],
            "text/plain": [
              "           Date        Open        High  ...       Close   Adj Close    Volume\n",
              "0    2020-07-13  247.009995  250.149994  ...  239.000000  239.000000  24674900\n",
              "1    2020-07-14  236.759995  240.330002  ...  239.729996  239.729996  23378100\n",
              "2    2020-07-15  241.550003  244.820007  ...  240.279999  240.279999  19133600\n",
              "3    2020-07-16  238.000000  241.759995  ...  240.929993  240.929993  18880700\n",
              "4    2020-07-17  241.000000  244.160004  ...  242.029999  242.029999  18152400\n",
              "..          ...         ...         ...  ...         ...         ...       ...\n",
              "246  2021-07-02  355.100006  356.440002  ...  354.700012  354.700012  11521300\n",
              "247  2021-07-06  356.500000  358.790009  ...  352.779999  352.779999  13488500\n",
              "248  2021-07-07  355.260010  356.489990  ...  350.489990  350.489990  14218900\n",
              "249  2021-07-08  345.730011  348.329987  ...  345.649994  345.649994  14406500\n",
              "250  2021-07-09  345.320007  350.709991  ...  350.420013  350.420013  13010400\n",
              "\n",
              "[251 rows x 7 columns]"
            ]
          },
          "metadata": {
            "tags": []
          },
          "execution_count": 4
        }
      ]
    },
    {
      "cell_type": "code",
      "metadata": {
        "colab": {
          "base_uri": "https://localhost:8080/",
          "height": 80
        },
        "id": "Wqs37p0C9Ui_",
        "outputId": "eb691047-9bb9-4db0-d357-61f0e80cd394"
      },
      "source": [
        "#Show and store the last row of data for testong prediction\n",
        "actual_price = df.tail(1)\n",
        "#Show the data \n",
        "actual_price"
      ],
      "execution_count": null,
      "outputs": [
        {
          "output_type": "execute_result",
          "data": {
            "text/html": [
              "<div>\n",
              "<style scoped>\n",
              "    .dataframe tbody tr th:only-of-type {\n",
              "        vertical-align: middle;\n",
              "    }\n",
              "\n",
              "    .dataframe tbody tr th {\n",
              "        vertical-align: top;\n",
              "    }\n",
              "\n",
              "    .dataframe thead th {\n",
              "        text-align: right;\n",
              "    }\n",
              "</style>\n",
              "<table border=\"1\" class=\"dataframe\">\n",
              "  <thead>\n",
              "    <tr style=\"text-align: right;\">\n",
              "      <th></th>\n",
              "      <th>Date</th>\n",
              "      <th>Open</th>\n",
              "      <th>High</th>\n",
              "      <th>Low</th>\n",
              "      <th>Close</th>\n",
              "      <th>Adj Close</th>\n",
              "      <th>Volume</th>\n",
              "    </tr>\n",
              "  </thead>\n",
              "  <tbody>\n",
              "    <tr>\n",
              "      <th>250</th>\n",
              "      <td>2021-07-09</td>\n",
              "      <td>345.320007</td>\n",
              "      <td>350.709991</td>\n",
              "      <td>345.269989</td>\n",
              "      <td>350.420013</td>\n",
              "      <td>350.420013</td>\n",
              "      <td>13010400</td>\n",
              "    </tr>\n",
              "  </tbody>\n",
              "</table>\n",
              "</div>"
            ],
            "text/plain": [
              "           Date        Open        High  ...       Close   Adj Close    Volume\n",
              "250  2021-07-09  345.320007  350.709991  ...  350.420013  350.420013  13010400\n",
              "\n",
              "[1 rows x 7 columns]"
            ]
          },
          "metadata": {
            "tags": []
          },
          "execution_count": 5
        }
      ]
    },
    {
      "cell_type": "code",
      "metadata": {
        "id": "64jSFP2m9m9A",
        "colab": {
          "base_uri": "https://localhost:8080/",
          "height": 419
        },
        "outputId": "f02087e0-4c7e-4c2b-ac75-a6434ea6eafc"
      },
      "source": [
        "#Get all of the data except the last row\n",
        "df = df.head(len(df)-1)\n",
        "df"
      ],
      "execution_count": null,
      "outputs": [
        {
          "output_type": "execute_result",
          "data": {
            "text/html": [
              "<div>\n",
              "<style scoped>\n",
              "    .dataframe tbody tr th:only-of-type {\n",
              "        vertical-align: middle;\n",
              "    }\n",
              "\n",
              "    .dataframe tbody tr th {\n",
              "        vertical-align: top;\n",
              "    }\n",
              "\n",
              "    .dataframe thead th {\n",
              "        text-align: right;\n",
              "    }\n",
              "</style>\n",
              "<table border=\"1\" class=\"dataframe\">\n",
              "  <thead>\n",
              "    <tr style=\"text-align: right;\">\n",
              "      <th></th>\n",
              "      <th>Date</th>\n",
              "      <th>Open</th>\n",
              "      <th>High</th>\n",
              "      <th>Low</th>\n",
              "      <th>Close</th>\n",
              "      <th>Adj Close</th>\n",
              "      <th>Volume</th>\n",
              "    </tr>\n",
              "  </thead>\n",
              "  <tbody>\n",
              "    <tr>\n",
              "      <th>0</th>\n",
              "      <td>2020-07-13</td>\n",
              "      <td>247.009995</td>\n",
              "      <td>250.149994</td>\n",
              "      <td>238.419998</td>\n",
              "      <td>239.000000</td>\n",
              "      <td>239.000000</td>\n",
              "      <td>24674900</td>\n",
              "    </tr>\n",
              "    <tr>\n",
              "      <th>1</th>\n",
              "      <td>2020-07-14</td>\n",
              "      <td>236.759995</td>\n",
              "      <td>240.330002</td>\n",
              "      <td>232.029999</td>\n",
              "      <td>239.729996</td>\n",
              "      <td>239.729996</td>\n",
              "      <td>23378100</td>\n",
              "    </tr>\n",
              "    <tr>\n",
              "      <th>2</th>\n",
              "      <td>2020-07-15</td>\n",
              "      <td>241.550003</td>\n",
              "      <td>244.820007</td>\n",
              "      <td>238.050003</td>\n",
              "      <td>240.279999</td>\n",
              "      <td>240.279999</td>\n",
              "      <td>19133600</td>\n",
              "    </tr>\n",
              "    <tr>\n",
              "      <th>3</th>\n",
              "      <td>2020-07-16</td>\n",
              "      <td>238.000000</td>\n",
              "      <td>241.759995</td>\n",
              "      <td>236.330002</td>\n",
              "      <td>240.929993</td>\n",
              "      <td>240.929993</td>\n",
              "      <td>18880700</td>\n",
              "    </tr>\n",
              "    <tr>\n",
              "      <th>4</th>\n",
              "      <td>2020-07-17</td>\n",
              "      <td>241.000000</td>\n",
              "      <td>244.160004</td>\n",
              "      <td>237.860001</td>\n",
              "      <td>242.029999</td>\n",
              "      <td>242.029999</td>\n",
              "      <td>18152400</td>\n",
              "    </tr>\n",
              "    <tr>\n",
              "      <th>...</th>\n",
              "      <td>...</td>\n",
              "      <td>...</td>\n",
              "      <td>...</td>\n",
              "      <td>...</td>\n",
              "      <td>...</td>\n",
              "      <td>...</td>\n",
              "      <td>...</td>\n",
              "    </tr>\n",
              "    <tr>\n",
              "      <th>245</th>\n",
              "      <td>2021-07-01</td>\n",
              "      <td>346.820007</td>\n",
              "      <td>354.670013</td>\n",
              "      <td>346.500000</td>\n",
              "      <td>354.390015</td>\n",
              "      <td>354.390015</td>\n",
              "      <td>17137000</td>\n",
              "    </tr>\n",
              "    <tr>\n",
              "      <th>246</th>\n",
              "      <td>2021-07-02</td>\n",
              "      <td>355.100006</td>\n",
              "      <td>356.440002</td>\n",
              "      <td>352.619995</td>\n",
              "      <td>354.700012</td>\n",
              "      <td>354.700012</td>\n",
              "      <td>11521300</td>\n",
              "    </tr>\n",
              "    <tr>\n",
              "      <th>247</th>\n",
              "      <td>2021-07-06</td>\n",
              "      <td>356.500000</td>\n",
              "      <td>358.790009</td>\n",
              "      <td>349.179993</td>\n",
              "      <td>352.779999</td>\n",
              "      <td>352.779999</td>\n",
              "      <td>13488500</td>\n",
              "    </tr>\n",
              "    <tr>\n",
              "      <th>248</th>\n",
              "      <td>2021-07-07</td>\n",
              "      <td>355.260010</td>\n",
              "      <td>356.489990</td>\n",
              "      <td>350.000000</td>\n",
              "      <td>350.489990</td>\n",
              "      <td>350.489990</td>\n",
              "      <td>14218900</td>\n",
              "    </tr>\n",
              "    <tr>\n",
              "      <th>249</th>\n",
              "      <td>2021-07-08</td>\n",
              "      <td>345.730011</td>\n",
              "      <td>348.329987</td>\n",
              "      <td>342.559998</td>\n",
              "      <td>345.649994</td>\n",
              "      <td>345.649994</td>\n",
              "      <td>14406500</td>\n",
              "    </tr>\n",
              "  </tbody>\n",
              "</table>\n",
              "<p>250 rows × 7 columns</p>\n",
              "</div>"
            ],
            "text/plain": [
              "           Date        Open        High  ...       Close   Adj Close    Volume\n",
              "0    2020-07-13  247.009995  250.149994  ...  239.000000  239.000000  24674900\n",
              "1    2020-07-14  236.759995  240.330002  ...  239.729996  239.729996  23378100\n",
              "2    2020-07-15  241.550003  244.820007  ...  240.279999  240.279999  19133600\n",
              "3    2020-07-16  238.000000  241.759995  ...  240.929993  240.929993  18880700\n",
              "4    2020-07-17  241.000000  244.160004  ...  242.029999  242.029999  18152400\n",
              "..          ...         ...         ...  ...         ...         ...       ...\n",
              "245  2021-07-01  346.820007  354.670013  ...  354.390015  354.390015  17137000\n",
              "246  2021-07-02  355.100006  356.440002  ...  354.700012  354.700012  11521300\n",
              "247  2021-07-06  356.500000  358.790009  ...  352.779999  352.779999  13488500\n",
              "248  2021-07-07  355.260010  356.489990  ...  350.489990  350.489990  14218900\n",
              "249  2021-07-08  345.730011  348.329987  ...  345.649994  345.649994  14406500\n",
              "\n",
              "[250 rows x 7 columns]"
            ]
          },
          "metadata": {
            "tags": []
          },
          "execution_count": 6
        }
      ]
    },
    {
      "cell_type": "code",
      "metadata": {
        "id": "x4-jgHaE-E-a"
      },
      "source": [
        "#Create empty lists\n",
        "days = list()\n",
        "adj_close_prices = list()"
      ],
      "execution_count": null,
      "outputs": []
    },
    {
      "cell_type": "code",
      "metadata": {
        "id": "Q7OLgKsp-Nwg"
      },
      "source": [
        "#Get only the dates and the adjusted close prices\n",
        "df_days =df.loc [:,'Date'] # all rows from Date column\n",
        "df_adj_close = df.loc[:,'Adj Close'] #all rows from Adj Close column"
      ],
      "execution_count": null,
      "outputs": []
    },
    {
      "cell_type": "code",
      "metadata": {
        "id": "1eJMqiy8-dD6"
      },
      "source": [
        "#Create the independent data set (dates)\n",
        "for day in df_days:\n",
        "  days.append([int(day.split('-')[2])])\n",
        "\n",
        "#Create the dependent data set (adj close prices)\n",
        "for adj_close_price in df_adj_close:\n",
        "  adj_close_prices.append(float(adj_close_price))"
      ],
      "execution_count": null,
      "outputs": []
    },
    {
      "cell_type": "code",
      "metadata": {
        "id": "gTw5AFeemODX"
      },
      "source": [
        "#show  the days\n",
        "\n",
        "days"
      ],
      "execution_count": null,
      "outputs": []
    },
    {
      "cell_type": "code",
      "metadata": {
        "colab": {
          "base_uri": "https://localhost:8080/"
        },
        "id": "q6zPCP5NmOEp",
        "outputId": "c448b4f5-f7b9-40ea-eb93-ab54b75632d0"
      },
      "source": [
        "# Show the adj close prices\n",
        "len(adj_close_prices)"
      ],
      "execution_count": null,
      "outputs": [
        {
          "output_type": "execute_result",
          "data": {
            "text/plain": [
              "250"
            ]
          },
          "metadata": {
            "tags": []
          },
          "execution_count": 11
        }
      ]
    },
    {
      "cell_type": "code",
      "metadata": {
        "colab": {
          "base_uri": "https://localhost:8080/"
        },
        "id": "Y87KIwDQmYmv",
        "outputId": "7d94845d-0c40-4447-c858-7bc425413427"
      },
      "source": [
        "#Create 3 models\n",
        "lin_svr =SVR(kernel= 'linear', C =1000.0)\n",
        "lin_svr.fit(days, adj_close_prices)\n",
        "\n",
        "poly_svr =SVR(kernel= 'poly', C =1000.0, degree =2)\n",
        "poly_svr.fit(days,adj_close_prices)\n",
        "\n",
        "rbf_svr =SVR(kernel= 'rbf', C =1000.0,gamma = 0.85)\n",
        "rbf_svr.fit(days,adj_close_prices)"
      ],
      "execution_count": null,
      "outputs": [
        {
          "output_type": "execute_result",
          "data": {
            "text/plain": [
              "SVR(C=1000.0, cache_size=200, coef0=0.0, degree=3, epsilon=0.1, gamma=0.85,\n",
              "    kernel='rbf', max_iter=-1, shrinking=True, tol=0.001, verbose=False)"
            ]
          },
          "metadata": {
            "tags": []
          },
          "execution_count": 12
        }
      ]
    },
    {
      "cell_type": "code",
      "metadata": {
        "colab": {
          "base_uri": "https://localhost:8080/",
          "height": 340
        },
        "id": "BQ-AIgLStcKd",
        "outputId": "a39c516f-a63b-4e6a-edc1-b9ed31b43129"
      },
      "source": [
        "#Plot the models\n",
        "plt.figure(figsize=(16,8))\n",
        "plt.scatter(days, adj_close_prices, color ='black',label ='Data')\n",
        "plt.plot(days, rbf_svr.predict(days),color ='green',label= 'RBF Model')\n",
        "plt.plot(days, poly_svr.predict(days),color ='orange',label= 'Polynomial Model')\n",
        "plt.plot(days, lin_svr.predict(days),color ='blue',label= 'Linear Model')\n",
        "plt.xlabel('Days')\n",
        "plt.ylabel('Adj Close Price ($)')\n",
        "plt.legend()\n",
        "plt.show"
      ],
      "execution_count": null,
      "outputs": [
        {
          "output_type": "execute_result",
          "data": {
            "text/plain": [
              "<function matplotlib.pyplot.show>"
            ]
          },
          "metadata": {
            "tags": []
          },
          "execution_count": 13
        },
        {
          "output_type": "display_data",
          "data": {
            "image/png": "[encoded data removed]",
            "text/plain": [
              "<Figure size 1152x576 with 1 Axes>"
            ]
          },
          "metadata": {
            "tags": []
          }
        }
      ]
    },
    {
      "cell_type": "code",
      "metadata": {
        "colab": {
          "base_uri": "https://localhost:8080/"
        },
        "id": "CNI-31ouwEYa",
        "outputId": "8c5f0ac4-89e0-4f17-c9a6-73ed063d40ec"
      },
      "source": [
        "#Show the predicted price for the given day\n",
        "day=[[30]]\n",
        "print('The RBF SVR predidicted price', rbf_svr.predict(day))\n",
        "print('The Linear SVR predidicted price', lin_svr.predict(day))\n",
        "print('The Polynomial SVR predidicted price', poly_svr.predict(day))"
      ],
      "execution_count": null,
      "outputs": [
        {
          "output_type": "stream",
          "text": [
            "The RBF SVR predidicted price [276.87007178]\n",
            "The Linear SVR predidicted price [277.30142829]\n",
            "The Polynomial SVR predidicted price [278.39926722]\n"
          ],
          "name": "stdout"
        }
      ]
    },
    {
      "cell_type": "code",
      "metadata": {
        "colab": {
          "base_uri": "https://localhost:8080/"
        },
        "id": "gFLd0TQuwlGS",
        "outputId": "46b42198-5b98-45b6-b351-1326cb8c8287"
      },
      "source": [
        "\n",
        "print('The actual price:', adj_close_prices[30])"
      ],
      "execution_count": null,
      "outputs": [
        {
          "output_type": "stream",
          "text": [
            "The actual price: 271.390015\n"
          ],
          "name": "stdout"
        }
      ]
    }
  ]
}